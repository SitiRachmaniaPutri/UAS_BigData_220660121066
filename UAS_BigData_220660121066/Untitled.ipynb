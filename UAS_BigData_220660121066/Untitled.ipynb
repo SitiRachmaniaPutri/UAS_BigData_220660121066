{
 "cells": [
  {
   "cell_type": "code",
   "execution_count": 1,
   "id": "43c65baa",
   "metadata": {},
   "outputs": [],
   "source": [
    "import time\n",
    "import numpy as np\n",
    "import pandas as pd\n",
    "import matplotlib.pyplot as plt\n",
    "from prettytable import PrettyTable\n",
    "from mlxtend.preprocessing import TransactionEncoder\n",
    "from mlxtend.frequent_patterns import apriori, association_rules, fpgrowth"
   ]
  },
  {
   "cell_type": "code",
   "execution_count": 2,
   "id": "4d207c46",
   "metadata": {},
   "outputs": [],
   "source": [
    "groceries = pd.read_csv(\"Groceries_dataset.csv\")"
   ]
  },
  {
   "cell_type": "code",
   "execution_count": 3,
   "id": "c0501d4c",
   "metadata": {},
   "outputs": [
    {
     "data": {
      "text/plain": [
       "(38765, 3)"
      ]
     },
     "execution_count": 3,
     "metadata": {},
     "output_type": "execute_result"
    }
   ],
   "source": [
    "groceries.shape"
   ]
  },
  {
   "cell_type": "code",
   "execution_count": 4,
   "id": "eda0d2f7",
   "metadata": {},
   "outputs": [
    {
     "data": {
      "text/html": [
       "<div>\n",
       "<style scoped>\n",
       "    .dataframe tbody tr th:only-of-type {\n",
       "        vertical-align: middle;\n",
       "    }\n",
       "\n",
       "    .dataframe tbody tr th {\n",
       "        vertical-align: top;\n",
       "    }\n",
       "\n",
       "    .dataframe thead th {\n",
       "        text-align: right;\n",
       "    }\n",
       "</style>\n",
       "<table border=\"1\" class=\"dataframe\">\n",
       "  <thead>\n",
       "    <tr style=\"text-align: right;\">\n",
       "      <th></th>\n",
       "      <th>Member_number</th>\n",
       "      <th>Date</th>\n",
       "      <th>itemDescription</th>\n",
       "    </tr>\n",
       "  </thead>\n",
       "  <tbody>\n",
       "    <tr>\n",
       "      <th>0</th>\n",
       "      <td>1808</td>\n",
       "      <td>21-07-2015</td>\n",
       "      <td>tropical fruit</td>\n",
       "    </tr>\n",
       "    <tr>\n",
       "      <th>1</th>\n",
       "      <td>2552</td>\n",
       "      <td>05-01-2015</td>\n",
       "      <td>whole milk</td>\n",
       "    </tr>\n",
       "    <tr>\n",
       "      <th>2</th>\n",
       "      <td>2300</td>\n",
       "      <td>19-09-2015</td>\n",
       "      <td>pip fruit</td>\n",
       "    </tr>\n",
       "    <tr>\n",
       "      <th>3</th>\n",
       "      <td>1187</td>\n",
       "      <td>12-12-2015</td>\n",
       "      <td>other vegetables</td>\n",
       "    </tr>\n",
       "    <tr>\n",
       "      <th>4</th>\n",
       "      <td>3037</td>\n",
       "      <td>01-02-2015</td>\n",
       "      <td>whole milk</td>\n",
       "    </tr>\n",
       "  </tbody>\n",
       "</table>\n",
       "</div>"
      ],
      "text/plain": [
       "   Member_number        Date   itemDescription\n",
       "0           1808  21-07-2015    tropical fruit\n",
       "1           2552  05-01-2015        whole milk\n",
       "2           2300  19-09-2015         pip fruit\n",
       "3           1187  12-12-2015  other vegetables\n",
       "4           3037  01-02-2015        whole milk"
      ]
     },
     "execution_count": 4,
     "metadata": {},
     "output_type": "execute_result"
    }
   ],
   "source": [
    "groceries.head()"
   ]
  },
  {
   "cell_type": "code",
   "execution_count": 5,
   "id": "40aa4653",
   "metadata": {},
   "outputs": [],
   "source": [
    "all_transactions = [transaction[1]['itemDescription'].tolist() for transaction in list(groceries.groupby(['Member_number', 'Date']))]"
   ]
  },
  {
   "cell_type": "code",
   "execution_count": 6,
   "id": "9991612e",
   "metadata": {},
   "outputs": [
    {
     "data": {
      "text/plain": [
       "14963"
      ]
     },
     "execution_count": 6,
     "metadata": {},
     "output_type": "execute_result"
    }
   ],
   "source": [
    "len(all_transactions)"
   ]
  },
  {
   "cell_type": "code",
   "execution_count": 7,
   "id": "b62c1e54",
   "metadata": {},
   "outputs": [
    {
     "data": {
      "text/plain": [
       "[['sausage', 'whole milk', 'semi-finished bread', 'yogurt'],\n",
       " ['whole milk', 'pastry', 'salty snack'],\n",
       " ['canned beer', 'misc. beverages'],\n",
       " ['sausage', 'hygiene articles'],\n",
       " ['soda', 'pickled vegetables'],\n",
       " ['frankfurter', 'curd'],\n",
       " ['sausage', 'whole milk', 'rolls/buns'],\n",
       " ['whole milk', 'soda'],\n",
       " ['beef', 'white bread'],\n",
       " ['frankfurter', 'soda', 'whipped/sour cream']]"
      ]
     },
     "execution_count": 7,
     "metadata": {},
     "output_type": "execute_result"
    }
   ],
   "source": [
    "all_transactions[0:10]"
   ]
  },
  {
   "cell_type": "code",
   "execution_count": 8,
   "id": "0c39ab0a",
   "metadata": {},
   "outputs": [],
   "source": [
    "trans_encoder = TransactionEncoder() \n",
    "trans_encoder_matrix = trans_encoder.fit(all_transactions).transform(all_transactions)\n",
    "trans_encoder_matrix = pd.DataFrame(trans_encoder_matrix, columns=trans_encoder.columns_)"
   ]
  },
  {
   "cell_type": "code",
   "execution_count": 9,
   "id": "a522d09b",
   "metadata": {},
   "outputs": [
    {
     "data": {
      "text/html": [
       "<div>\n",
       "<style scoped>\n",
       "    .dataframe tbody tr th:only-of-type {\n",
       "        vertical-align: middle;\n",
       "    }\n",
       "\n",
       "    .dataframe tbody tr th {\n",
       "        vertical-align: top;\n",
       "    }\n",
       "\n",
       "    .dataframe thead th {\n",
       "        text-align: right;\n",
       "    }\n",
       "</style>\n",
       "<table border=\"1\" class=\"dataframe\">\n",
       "  <thead>\n",
       "    <tr style=\"text-align: right;\">\n",
       "      <th></th>\n",
       "      <th>Instant food products</th>\n",
       "      <th>UHT-milk</th>\n",
       "      <th>abrasive cleaner</th>\n",
       "      <th>artif. sweetener</th>\n",
       "      <th>baby cosmetics</th>\n",
       "      <th>bags</th>\n",
       "      <th>baking powder</th>\n",
       "      <th>bathroom cleaner</th>\n",
       "      <th>beef</th>\n",
       "      <th>berries</th>\n",
       "      <th>...</th>\n",
       "      <th>turkey</th>\n",
       "      <th>vinegar</th>\n",
       "      <th>waffles</th>\n",
       "      <th>whipped/sour cream</th>\n",
       "      <th>whisky</th>\n",
       "      <th>white bread</th>\n",
       "      <th>white wine</th>\n",
       "      <th>whole milk</th>\n",
       "      <th>yogurt</th>\n",
       "      <th>zwieback</th>\n",
       "    </tr>\n",
       "  </thead>\n",
       "  <tbody>\n",
       "    <tr>\n",
       "      <th>0</th>\n",
       "      <td>False</td>\n",
       "      <td>False</td>\n",
       "      <td>False</td>\n",
       "      <td>False</td>\n",
       "      <td>False</td>\n",
       "      <td>False</td>\n",
       "      <td>False</td>\n",
       "      <td>False</td>\n",
       "      <td>False</td>\n",
       "      <td>False</td>\n",
       "      <td>...</td>\n",
       "      <td>False</td>\n",
       "      <td>False</td>\n",
       "      <td>False</td>\n",
       "      <td>False</td>\n",
       "      <td>False</td>\n",
       "      <td>False</td>\n",
       "      <td>False</td>\n",
       "      <td>True</td>\n",
       "      <td>True</td>\n",
       "      <td>False</td>\n",
       "    </tr>\n",
       "    <tr>\n",
       "      <th>1</th>\n",
       "      <td>False</td>\n",
       "      <td>False</td>\n",
       "      <td>False</td>\n",
       "      <td>False</td>\n",
       "      <td>False</td>\n",
       "      <td>False</td>\n",
       "      <td>False</td>\n",
       "      <td>False</td>\n",
       "      <td>False</td>\n",
       "      <td>False</td>\n",
       "      <td>...</td>\n",
       "      <td>False</td>\n",
       "      <td>False</td>\n",
       "      <td>False</td>\n",
       "      <td>False</td>\n",
       "      <td>False</td>\n",
       "      <td>False</td>\n",
       "      <td>False</td>\n",
       "      <td>True</td>\n",
       "      <td>False</td>\n",
       "      <td>False</td>\n",
       "    </tr>\n",
       "    <tr>\n",
       "      <th>2</th>\n",
       "      <td>False</td>\n",
       "      <td>False</td>\n",
       "      <td>False</td>\n",
       "      <td>False</td>\n",
       "      <td>False</td>\n",
       "      <td>False</td>\n",
       "      <td>False</td>\n",
       "      <td>False</td>\n",
       "      <td>False</td>\n",
       "      <td>False</td>\n",
       "      <td>...</td>\n",
       "      <td>False</td>\n",
       "      <td>False</td>\n",
       "      <td>False</td>\n",
       "      <td>False</td>\n",
       "      <td>False</td>\n",
       "      <td>False</td>\n",
       "      <td>False</td>\n",
       "      <td>False</td>\n",
       "      <td>False</td>\n",
       "      <td>False</td>\n",
       "    </tr>\n",
       "    <tr>\n",
       "      <th>3</th>\n",
       "      <td>False</td>\n",
       "      <td>False</td>\n",
       "      <td>False</td>\n",
       "      <td>False</td>\n",
       "      <td>False</td>\n",
       "      <td>False</td>\n",
       "      <td>False</td>\n",
       "      <td>False</td>\n",
       "      <td>False</td>\n",
       "      <td>False</td>\n",
       "      <td>...</td>\n",
       "      <td>False</td>\n",
       "      <td>False</td>\n",
       "      <td>False</td>\n",
       "      <td>False</td>\n",
       "      <td>False</td>\n",
       "      <td>False</td>\n",
       "      <td>False</td>\n",
       "      <td>False</td>\n",
       "      <td>False</td>\n",
       "      <td>False</td>\n",
       "    </tr>\n",
       "    <tr>\n",
       "      <th>4</th>\n",
       "      <td>False</td>\n",
       "      <td>False</td>\n",
       "      <td>False</td>\n",
       "      <td>False</td>\n",
       "      <td>False</td>\n",
       "      <td>False</td>\n",
       "      <td>False</td>\n",
       "      <td>False</td>\n",
       "      <td>False</td>\n",
       "      <td>False</td>\n",
       "      <td>...</td>\n",
       "      <td>False</td>\n",
       "      <td>False</td>\n",
       "      <td>False</td>\n",
       "      <td>False</td>\n",
       "      <td>False</td>\n",
       "      <td>False</td>\n",
       "      <td>False</td>\n",
       "      <td>False</td>\n",
       "      <td>False</td>\n",
       "      <td>False</td>\n",
       "    </tr>\n",
       "  </tbody>\n",
       "</table>\n",
       "<p>5 rows × 167 columns</p>\n",
       "</div>"
      ],
      "text/plain": [
       "   Instant food products  UHT-milk  abrasive cleaner  artif. sweetener  \\\n",
       "0                  False     False             False             False   \n",
       "1                  False     False             False             False   \n",
       "2                  False     False             False             False   \n",
       "3                  False     False             False             False   \n",
       "4                  False     False             False             False   \n",
       "\n",
       "   baby cosmetics   bags  baking powder  bathroom cleaner   beef  berries  \\\n",
       "0           False  False          False             False  False    False   \n",
       "1           False  False          False             False  False    False   \n",
       "2           False  False          False             False  False    False   \n",
       "3           False  False          False             False  False    False   \n",
       "4           False  False          False             False  False    False   \n",
       "\n",
       "   ...  turkey  vinegar  waffles  whipped/sour cream  whisky  white bread  \\\n",
       "0  ...   False    False    False               False   False        False   \n",
       "1  ...   False    False    False               False   False        False   \n",
       "2  ...   False    False    False               False   False        False   \n",
       "3  ...   False    False    False               False   False        False   \n",
       "4  ...   False    False    False               False   False        False   \n",
       "\n",
       "   white wine  whole milk  yogurt  zwieback  \n",
       "0       False        True    True     False  \n",
       "1       False        True   False     False  \n",
       "2       False       False   False     False  \n",
       "3       False       False   False     False  \n",
       "4       False       False   False     False  \n",
       "\n",
       "[5 rows x 167 columns]"
      ]
     },
     "execution_count": 9,
     "metadata": {},
     "output_type": "execute_result"
    }
   ],
   "source": [
    "trans_encoder_matrix.head()"
   ]
  },
  {
   "cell_type": "code",
   "execution_count": 10,
   "id": "c1fe5303",
   "metadata": {},
   "outputs": [],
   "source": [
    "def perform_rule_calculation(transact_items_matrix, rule_type=\"fpgrowth\", min_support=0.001):\n",
    "    \"\"\"\n",
    "    desc: this function performs the association rule calculation \n",
    "    @params:\n",
    "        - transact_items_matrix: the transaction X Items matrix\n",
    "        - rule_type: \n",
    "                    - apriori or Growth algorithms (default=\"fpgrowth\")\n",
    "                    \n",
    "        - min_support: minimum support threshold value (default = 0.001)\n",
    "        \n",
    "    @returns:\n",
    "        - the matrix containing 3 columns:\n",
    "            - support: support values for each combination of items\n",
    "            - itemsets: the combination of items\n",
    "            - number_of_items: the number of items in each combination of items\n",
    "            \n",
    "        - the excution time for the corresponding algorithm\n",
    "        \n",
    "    \"\"\"\n",
    "    start_time = 0\n",
    "    total_execution = 0\n",
    "    \n",
    "    if(not rule_type==\"fpgrowth\"):\n",
    "        start_time = time.time()\n",
    "        rule_items = apriori(transact_items_matrix, \n",
    "                       min_support=min_support, \n",
    "                       use_colnames=True)\n",
    "        total_execution = time.time() - start_time\n",
    "        print(\"Computed Apriori!\")\n",
    "        \n",
    "    else:\n",
    "        start_time = time.time()\n",
    "        rule_items = fpgrowth(transact_items_matrix, \n",
    "                       min_support=min_support, \n",
    "                       use_colnames=True)\n",
    "        total_execution = time.time() - start_time\n",
    "        print(\"Computed Fp Growth!\")\n",
    "    \n",
    "    rule_items['number_of_items'] = rule_items['itemsets'].apply(lambda x: len(x))\n",
    "    \n",
    "    return rule_items, total_execution"
   ]
  },
  {
   "cell_type": "code",
   "execution_count": 11,
   "id": "1e7cc0b4",
   "metadata": {},
   "outputs": [],
   "source": [
    "def compute_association_rule(rule_matrix, metric=\"lift\", min_thresh=1):\n",
    "    \"\"\"\n",
    "    @desc: Compute the final association rule\n",
    "    @params:\n",
    "        - rule_matrix: the corresponding algorithms matrix\n",
    "        - metric: the metric to be used (default is lift)\n",
    "        - min_thresh: the minimum threshold (default is 1)\n",
    "        \n",
    "    @returns:\n",
    "        - rules: all the information for each transaction satisfying the given metric & threshold\n",
    "    \"\"\"\n",
    "    rules = association_rules(rule_matrix, \n",
    "                              metric=metric, \n",
    "                              min_threshold=min_thresh)\n",
    "    \n",
    "    return rules"
   ]
  },
  {
   "cell_type": "code",
   "execution_count": 12,
   "id": "36a22778",
   "metadata": {},
   "outputs": [],
   "source": [
    "# Plot Lift Vs Coverage(confidence) \n",
    "def plot_metrics_relationship(rule_matrix, col1, col2):\n",
    "    \"\"\"\n",
    "    desc: shows the relationship between the two input columns \n",
    "    @params:\n",
    "        - rule_matrix: the matrix containing the result of a rule (apriori or Fp Growth)\n",
    "        - col1: first column\n",
    "        - col2: second column\n",
    "    \"\"\"\n",
    "    fit = np.polyfit(rule_matrix[col1], rule_matrix[col2], 1)\n",
    "    fit_funt = np.poly1d(fit)\n",
    "    plt.plot(rule_matrix[col1], rule_matrix[col2], 'yo', rule_matrix[col1], \n",
    "    fit_funt(rule_matrix[col1]))\n",
    "    plt.xlabel(col1)\n",
    "    plt.ylabel(col2)\n",
    "    plt.title('{} vs {}'.format(col1, col2))"
   ]
  },
  {
   "cell_type": "code",
   "execution_count": 13,
   "id": "37c1e166",
   "metadata": {},
   "outputs": [],
   "source": [
    "def compare_time_exec(algo1=list, alg2=list):\n",
    "    \"\"\"\n",
    "    @desc: shows the execution time between two algorithms\n",
    "    @params:\n",
    "        - algo1: list containing the description of first algorithm, where\n",
    "            \n",
    "        - algo2: list containing the description of second algorithm, where\n",
    "    \"\"\"\n",
    "    \n",
    "    execution_times = [algo1[1], algo2[1]]\n",
    "    algo_names = (algo1[0], algo2[0])\n",
    "    y=np.arange(len(algo_names))\n",
    "    \n",
    "    plt.bar(y,execution_times,color=['orange', 'blue'])\n",
    "    plt.xticks(y,algo_names)\n",
    "    plt.xlabel('Algorithms')\n",
    "    plt.ylabel('Time')\n",
    "    plt.title(\"Execution Time (seconds) Comparison\")\n",
    "    plt.show()"
   ]
  },
  {
   "cell_type": "code",
   "execution_count": 14,
   "id": "ab1e620d",
   "metadata": {},
   "outputs": [],
   "source": [
    "val = {'name':12}\n",
    "value = list(val.items())[0]"
   ]
  },
  {
   "cell_type": "code",
   "execution_count": 15,
   "id": "0c9e668c",
   "metadata": {},
   "outputs": [
    {
     "data": {
      "text/plain": [
       "('name', 12)"
      ]
     },
     "execution_count": 15,
     "metadata": {},
     "output_type": "execute_result"
    }
   ],
   "source": [
    "value"
   ]
  },
  {
   "cell_type": "code",
   "execution_count": null,
   "id": "bb1652d6",
   "metadata": {},
   "outputs": [],
   "source": [
    "# case 1 using FP-Growth algorithm"
   ]
  },
  {
   "cell_type": "code",
   "execution_count": 16,
   "id": "708c7d1c",
   "metadata": {},
   "outputs": [
    {
     "name": "stdout",
     "output_type": "stream",
     "text": [
      "Computed Fp Growth!\n",
      "Fp Growth execution took: 0.3473067283630371 seconds\n"
     ]
    }
   ],
   "source": [
    "fpgrowth_matrix, fp_growth_exec_time = perform_rule_calculation(trans_encoder_matrix) # Run the algorithm\n",
    "print(\"Fp Growth execution took: {} seconds\".format(fp_growth_exec_time))"
   ]
  },
  {
   "cell_type": "code",
   "execution_count": 17,
   "id": "ec53e829",
   "metadata": {},
   "outputs": [
    {
     "data": {
      "text/html": [
       "<div>\n",
       "<style scoped>\n",
       "    .dataframe tbody tr th:only-of-type {\n",
       "        vertical-align: middle;\n",
       "    }\n",
       "\n",
       "    .dataframe tbody tr th {\n",
       "        vertical-align: top;\n",
       "    }\n",
       "\n",
       "    .dataframe thead th {\n",
       "        text-align: right;\n",
       "    }\n",
       "</style>\n",
       "<table border=\"1\" class=\"dataframe\">\n",
       "  <thead>\n",
       "    <tr style=\"text-align: right;\">\n",
       "      <th></th>\n",
       "      <th>support</th>\n",
       "      <th>itemsets</th>\n",
       "      <th>number_of_items</th>\n",
       "    </tr>\n",
       "  </thead>\n",
       "  <tbody>\n",
       "    <tr>\n",
       "      <th>0</th>\n",
       "      <td>0.157923</td>\n",
       "      <td>(whole milk)</td>\n",
       "      <td>1</td>\n",
       "    </tr>\n",
       "    <tr>\n",
       "      <th>1</th>\n",
       "      <td>0.085879</td>\n",
       "      <td>(yogurt)</td>\n",
       "      <td>1</td>\n",
       "    </tr>\n",
       "    <tr>\n",
       "      <th>2</th>\n",
       "      <td>0.060349</td>\n",
       "      <td>(sausage)</td>\n",
       "      <td>1</td>\n",
       "    </tr>\n",
       "    <tr>\n",
       "      <th>3</th>\n",
       "      <td>0.009490</td>\n",
       "      <td>(semi-finished bread)</td>\n",
       "      <td>1</td>\n",
       "    </tr>\n",
       "    <tr>\n",
       "      <th>4</th>\n",
       "      <td>0.051728</td>\n",
       "      <td>(pastry)</td>\n",
       "      <td>1</td>\n",
       "    </tr>\n",
       "  </tbody>\n",
       "</table>\n",
       "</div>"
      ],
      "text/plain": [
       "    support               itemsets  number_of_items\n",
       "0  0.157923           (whole milk)                1\n",
       "1  0.085879               (yogurt)                1\n",
       "2  0.060349              (sausage)                1\n",
       "3  0.009490  (semi-finished bread)                1\n",
       "4  0.051728               (pastry)                1"
      ]
     },
     "execution_count": 17,
     "metadata": {},
     "output_type": "execute_result"
    }
   ],
   "source": [
    "fpgrowth_matrix.head()"
   ]
  },
  {
   "cell_type": "code",
   "execution_count": 18,
   "id": "ea248d46",
   "metadata": {},
   "outputs": [
    {
     "data": {
      "text/html": [
       "<div>\n",
       "<style scoped>\n",
       "    .dataframe tbody tr th:only-of-type {\n",
       "        vertical-align: middle;\n",
       "    }\n",
       "\n",
       "    .dataframe tbody tr th {\n",
       "        vertical-align: top;\n",
       "    }\n",
       "\n",
       "    .dataframe thead th {\n",
       "        text-align: right;\n",
       "    }\n",
       "</style>\n",
       "<table border=\"1\" class=\"dataframe\">\n",
       "  <thead>\n",
       "    <tr style=\"text-align: right;\">\n",
       "      <th></th>\n",
       "      <th>support</th>\n",
       "      <th>itemsets</th>\n",
       "      <th>number_of_items</th>\n",
       "    </tr>\n",
       "  </thead>\n",
       "  <tbody>\n",
       "    <tr>\n",
       "      <th>745</th>\n",
       "      <td>0.001403</td>\n",
       "      <td>(chewing gum, yogurt)</td>\n",
       "      <td>2</td>\n",
       "    </tr>\n",
       "    <tr>\n",
       "      <th>746</th>\n",
       "      <td>0.001069</td>\n",
       "      <td>(other vegetables, chewing gum)</td>\n",
       "      <td>2</td>\n",
       "    </tr>\n",
       "    <tr>\n",
       "      <th>747</th>\n",
       "      <td>0.001002</td>\n",
       "      <td>(soda, chewing gum)</td>\n",
       "      <td>2</td>\n",
       "    </tr>\n",
       "    <tr>\n",
       "      <th>748</th>\n",
       "      <td>0.001069</td>\n",
       "      <td>(pasta, whole milk)</td>\n",
       "      <td>2</td>\n",
       "    </tr>\n",
       "    <tr>\n",
       "      <th>749</th>\n",
       "      <td>0.001002</td>\n",
       "      <td>(rolls/buns, seasonal products)</td>\n",
       "      <td>2</td>\n",
       "    </tr>\n",
       "  </tbody>\n",
       "</table>\n",
       "</div>"
      ],
      "text/plain": [
       "      support                         itemsets  number_of_items\n",
       "745  0.001403            (chewing gum, yogurt)                2\n",
       "746  0.001069  (other vegetables, chewing gum)                2\n",
       "747  0.001002              (soda, chewing gum)                2\n",
       "748  0.001069              (pasta, whole milk)                2\n",
       "749  0.001002  (rolls/buns, seasonal products)                2"
      ]
     },
     "execution_count": 18,
     "metadata": {},
     "output_type": "execute_result"
    }
   ],
   "source": [
    "fpgrowth_matrix.tail()"
   ]
  },
  {
   "cell_type": "code",
   "execution_count": null,
   "id": "3c6d0f3c",
   "metadata": {},
   "outputs": [],
   "source": [
    "# lift"
   ]
  },
  {
   "cell_type": "code",
   "execution_count": 19,
   "id": "062bdd3f",
   "metadata": {},
   "outputs": [],
   "source": [
    "fp_growth_rule_lift = compute_association_rule(fpgrowth_matrix)"
   ]
  },
  {
   "cell_type": "code",
   "execution_count": 20,
   "id": "9f5d453e",
   "metadata": {},
   "outputs": [
    {
     "data": {
      "text/html": [
       "<div>\n",
       "<style scoped>\n",
       "    .dataframe tbody tr th:only-of-type {\n",
       "        vertical-align: middle;\n",
       "    }\n",
       "\n",
       "    .dataframe tbody tr th {\n",
       "        vertical-align: top;\n",
       "    }\n",
       "\n",
       "    .dataframe thead th {\n",
       "        text-align: right;\n",
       "    }\n",
       "</style>\n",
       "<table border=\"1\" class=\"dataframe\">\n",
       "  <thead>\n",
       "    <tr style=\"text-align: right;\">\n",
       "      <th></th>\n",
       "      <th>antecedents</th>\n",
       "      <th>consequents</th>\n",
       "      <th>antecedent support</th>\n",
       "      <th>consequent support</th>\n",
       "      <th>support</th>\n",
       "      <th>confidence</th>\n",
       "      <th>lift</th>\n",
       "      <th>leverage</th>\n",
       "      <th>conviction</th>\n",
       "      <th>zhangs_metric</th>\n",
       "    </tr>\n",
       "  </thead>\n",
       "  <tbody>\n",
       "    <tr>\n",
       "      <th>0</th>\n",
       "      <td>(whole milk, rolls/buns)</td>\n",
       "      <td>(yogurt)</td>\n",
       "      <td>0.013968</td>\n",
       "      <td>0.085879</td>\n",
       "      <td>0.001337</td>\n",
       "      <td>0.095694</td>\n",
       "      <td>1.114293</td>\n",
       "      <td>0.000137</td>\n",
       "      <td>1.010854</td>\n",
       "      <td>0.104023</td>\n",
       "    </tr>\n",
       "    <tr>\n",
       "      <th>1</th>\n",
       "      <td>(whole milk, yogurt)</td>\n",
       "      <td>(rolls/buns)</td>\n",
       "      <td>0.011161</td>\n",
       "      <td>0.110005</td>\n",
       "      <td>0.001337</td>\n",
       "      <td>0.119760</td>\n",
       "      <td>1.088685</td>\n",
       "      <td>0.000109</td>\n",
       "      <td>1.011083</td>\n",
       "      <td>0.082380</td>\n",
       "    </tr>\n",
       "    <tr>\n",
       "      <th>2</th>\n",
       "      <td>(rolls/buns, yogurt)</td>\n",
       "      <td>(whole milk)</td>\n",
       "      <td>0.007819</td>\n",
       "      <td>0.157923</td>\n",
       "      <td>0.001337</td>\n",
       "      <td>0.170940</td>\n",
       "      <td>1.082428</td>\n",
       "      <td>0.000102</td>\n",
       "      <td>1.015701</td>\n",
       "      <td>0.076751</td>\n",
       "    </tr>\n",
       "    <tr>\n",
       "      <th>3</th>\n",
       "      <td>(whole milk)</td>\n",
       "      <td>(rolls/buns, yogurt)</td>\n",
       "      <td>0.157923</td>\n",
       "      <td>0.007819</td>\n",
       "      <td>0.001337</td>\n",
       "      <td>0.008464</td>\n",
       "      <td>1.082428</td>\n",
       "      <td>0.000102</td>\n",
       "      <td>1.000650</td>\n",
       "      <td>0.090433</td>\n",
       "    </tr>\n",
       "    <tr>\n",
       "      <th>4</th>\n",
       "      <td>(rolls/buns)</td>\n",
       "      <td>(whole milk, yogurt)</td>\n",
       "      <td>0.110005</td>\n",
       "      <td>0.011161</td>\n",
       "      <td>0.001337</td>\n",
       "      <td>0.012151</td>\n",
       "      <td>1.088685</td>\n",
       "      <td>0.000109</td>\n",
       "      <td>1.001002</td>\n",
       "      <td>0.091530</td>\n",
       "    </tr>\n",
       "  </tbody>\n",
       "</table>\n",
       "</div>"
      ],
      "text/plain": [
       "                antecedents           consequents  antecedent support  \\\n",
       "0  (whole milk, rolls/buns)              (yogurt)            0.013968   \n",
       "1      (whole milk, yogurt)          (rolls/buns)            0.011161   \n",
       "2      (rolls/buns, yogurt)          (whole milk)            0.007819   \n",
       "3              (whole milk)  (rolls/buns, yogurt)            0.157923   \n",
       "4              (rolls/buns)  (whole milk, yogurt)            0.110005   \n",
       "\n",
       "   consequent support   support  confidence      lift  leverage  conviction  \\\n",
       "0            0.085879  0.001337    0.095694  1.114293  0.000137    1.010854   \n",
       "1            0.110005  0.001337    0.119760  1.088685  0.000109    1.011083   \n",
       "2            0.157923  0.001337    0.170940  1.082428  0.000102    1.015701   \n",
       "3            0.007819  0.001337    0.008464  1.082428  0.000102    1.000650   \n",
       "4            0.011161  0.001337    0.012151  1.088685  0.000109    1.001002   \n",
       "\n",
       "   zhangs_metric  \n",
       "0       0.104023  \n",
       "1       0.082380  \n",
       "2       0.076751  \n",
       "3       0.090433  \n",
       "4       0.091530  "
      ]
     },
     "execution_count": 20,
     "metadata": {},
     "output_type": "execute_result"
    }
   ],
   "source": [
    "fp_growth_rule_lift.head()"
   ]
  },
  {
   "cell_type": "code",
   "execution_count": 21,
   "id": "20180a72",
   "metadata": {},
   "outputs": [
    {
     "data": {
      "image/png": "[encoded data removed]",
      "text/plain": [
       "<Figure size 640x480 with 1 Axes>"
      ]
     },
     "metadata": {},
     "output_type": "display_data"
    }
   ],
   "source": [
    "plot_metrics_relationship(fp_growth_rule_lift, col1='lift', col2='confidence')"
   ]
  },
  {
   "cell_type": "code",
   "execution_count": null,
   "id": "806f1e90",
   "metadata": {},
   "outputs": [],
   "source": [
    "# confidence"
   ]
  },
  {
   "cell_type": "code",
   "execution_count": 22,
   "id": "5a32a8cb",
   "metadata": {},
   "outputs": [
    {
     "data": {
      "text/html": [
       "<div>\n",
       "<style scoped>\n",
       "    .dataframe tbody tr th:only-of-type {\n",
       "        vertical-align: middle;\n",
       "    }\n",
       "\n",
       "    .dataframe tbody tr th {\n",
       "        vertical-align: top;\n",
       "    }\n",
       "\n",
       "    .dataframe thead th {\n",
       "        text-align: right;\n",
       "    }\n",
       "</style>\n",
       "<table border=\"1\" class=\"dataframe\">\n",
       "  <thead>\n",
       "    <tr style=\"text-align: right;\">\n",
       "      <th></th>\n",
       "      <th>antecedents</th>\n",
       "      <th>consequents</th>\n",
       "      <th>antecedent support</th>\n",
       "      <th>consequent support</th>\n",
       "      <th>support</th>\n",
       "      <th>confidence</th>\n",
       "      <th>lift</th>\n",
       "      <th>leverage</th>\n",
       "      <th>conviction</th>\n",
       "      <th>zhangs_metric</th>\n",
       "    </tr>\n",
       "  </thead>\n",
       "  <tbody>\n",
       "    <tr>\n",
       "      <th>0</th>\n",
       "      <td>(sausage, yogurt)</td>\n",
       "      <td>(whole milk)</td>\n",
       "      <td>0.005748</td>\n",
       "      <td>0.157923</td>\n",
       "      <td>0.001470</td>\n",
       "      <td>0.255814</td>\n",
       "      <td>1.619866</td>\n",
       "      <td>0.000563</td>\n",
       "      <td>1.131541</td>\n",
       "      <td>0.384877</td>\n",
       "    </tr>\n",
       "    <tr>\n",
       "      <th>1</th>\n",
       "      <td>(sausage, rolls/buns)</td>\n",
       "      <td>(whole milk)</td>\n",
       "      <td>0.005347</td>\n",
       "      <td>0.157923</td>\n",
       "      <td>0.001136</td>\n",
       "      <td>0.212500</td>\n",
       "      <td>1.345594</td>\n",
       "      <td>0.000292</td>\n",
       "      <td>1.069304</td>\n",
       "      <td>0.258214</td>\n",
       "    </tr>\n",
       "  </tbody>\n",
       "</table>\n",
       "</div>"
      ],
      "text/plain": [
       "             antecedents   consequents  antecedent support  \\\n",
       "0      (sausage, yogurt)  (whole milk)            0.005748   \n",
       "1  (sausage, rolls/buns)  (whole milk)            0.005347   \n",
       "\n",
       "   consequent support   support  confidence      lift  leverage  conviction  \\\n",
       "0            0.157923  0.001470    0.255814  1.619866  0.000563    1.131541   \n",
       "1            0.157923  0.001136    0.212500  1.345594  0.000292    1.069304   \n",
       "\n",
       "   zhangs_metric  \n",
       "0       0.384877  \n",
       "1       0.258214  "
      ]
     },
     "execution_count": 22,
     "metadata": {},
     "output_type": "execute_result"
    }
   ],
   "source": [
    "fp_growth_rule = compute_association_rule(fpgrowth_matrix, metric=\"confidence\", min_thresh=0.2)\n",
    "fp_growth_rule.head()"
   ]
  },
  {
   "cell_type": "code",
   "execution_count": null,
   "id": "dfba4121",
   "metadata": {},
   "outputs": [],
   "source": [
    "# case 2 using apriori algorithm"
   ]
  },
  {
   "cell_type": "code",
   "execution_count": 23,
   "id": "bee7229c",
   "metadata": {},
   "outputs": [
    {
     "name": "stdout",
     "output_type": "stream",
     "text": [
      "Computed Apriori!\n",
      "Apriori Execution took: 4.573241472244263 seconds\n"
     ]
    }
   ],
   "source": [
    "apriori_matrix, apriori_exec_time = perform_rule_calculation(trans_encoder_matrix, rule_type=\"apriori\")\n",
    "print(\"Apriori Execution took: {} seconds\".format(apriori_exec_time))"
   ]
  },
  {
   "cell_type": "code",
   "execution_count": 24,
   "id": "c29c5012",
   "metadata": {},
   "outputs": [
    {
     "data": {
      "text/html": [
       "<div>\n",
       "<style scoped>\n",
       "    .dataframe tbody tr th:only-of-type {\n",
       "        vertical-align: middle;\n",
       "    }\n",
       "\n",
       "    .dataframe tbody tr th {\n",
       "        vertical-align: top;\n",
       "    }\n",
       "\n",
       "    .dataframe thead th {\n",
       "        text-align: right;\n",
       "    }\n",
       "</style>\n",
       "<table border=\"1\" class=\"dataframe\">\n",
       "  <thead>\n",
       "    <tr style=\"text-align: right;\">\n",
       "      <th></th>\n",
       "      <th>support</th>\n",
       "      <th>itemsets</th>\n",
       "      <th>number_of_items</th>\n",
       "    </tr>\n",
       "  </thead>\n",
       "  <tbody>\n",
       "    <tr>\n",
       "      <th>0</th>\n",
       "      <td>0.004010</td>\n",
       "      <td>(Instant food products)</td>\n",
       "      <td>1</td>\n",
       "    </tr>\n",
       "    <tr>\n",
       "      <th>1</th>\n",
       "      <td>0.021386</td>\n",
       "      <td>(UHT-milk)</td>\n",
       "      <td>1</td>\n",
       "    </tr>\n",
       "    <tr>\n",
       "      <th>2</th>\n",
       "      <td>0.001470</td>\n",
       "      <td>(abrasive cleaner)</td>\n",
       "      <td>1</td>\n",
       "    </tr>\n",
       "    <tr>\n",
       "      <th>3</th>\n",
       "      <td>0.001938</td>\n",
       "      <td>(artif. sweetener)</td>\n",
       "      <td>1</td>\n",
       "    </tr>\n",
       "    <tr>\n",
       "      <th>4</th>\n",
       "      <td>0.008087</td>\n",
       "      <td>(baking powder)</td>\n",
       "      <td>1</td>\n",
       "    </tr>\n",
       "  </tbody>\n",
       "</table>\n",
       "</div>"
      ],
      "text/plain": [
       "    support                 itemsets  number_of_items\n",
       "0  0.004010  (Instant food products)                1\n",
       "1  0.021386               (UHT-milk)                1\n",
       "2  0.001470       (abrasive cleaner)                1\n",
       "3  0.001938       (artif. sweetener)                1\n",
       "4  0.008087          (baking powder)                1"
      ]
     },
     "execution_count": 24,
     "metadata": {},
     "output_type": "execute_result"
    }
   ],
   "source": [
    "apriori_matrix.head()"
   ]
  },
  {
   "cell_type": "code",
   "execution_count": 25,
   "id": "5fe4dbb8",
   "metadata": {},
   "outputs": [
    {
     "data": {
      "text/html": [
       "<div>\n",
       "<style scoped>\n",
       "    .dataframe tbody tr th:only-of-type {\n",
       "        vertical-align: middle;\n",
       "    }\n",
       "\n",
       "    .dataframe tbody tr th {\n",
       "        vertical-align: top;\n",
       "    }\n",
       "\n",
       "    .dataframe thead th {\n",
       "        text-align: right;\n",
       "    }\n",
       "</style>\n",
       "<table border=\"1\" class=\"dataframe\">\n",
       "  <thead>\n",
       "    <tr style=\"text-align: right;\">\n",
       "      <th></th>\n",
       "      <th>support</th>\n",
       "      <th>itemsets</th>\n",
       "      <th>number_of_items</th>\n",
       "    </tr>\n",
       "  </thead>\n",
       "  <tbody>\n",
       "    <tr>\n",
       "      <th>745</th>\n",
       "      <td>0.001136</td>\n",
       "      <td>(whole milk, rolls/buns, sausage)</td>\n",
       "      <td>3</td>\n",
       "    </tr>\n",
       "    <tr>\n",
       "      <th>746</th>\n",
       "      <td>0.001002</td>\n",
       "      <td>(whole milk, rolls/buns, soda)</td>\n",
       "      <td>3</td>\n",
       "    </tr>\n",
       "    <tr>\n",
       "      <th>747</th>\n",
       "      <td>0.001337</td>\n",
       "      <td>(whole milk, rolls/buns, yogurt)</td>\n",
       "      <td>3</td>\n",
       "    </tr>\n",
       "    <tr>\n",
       "      <th>748</th>\n",
       "      <td>0.001069</td>\n",
       "      <td>(whole milk, sausage, soda)</td>\n",
       "      <td>3</td>\n",
       "    </tr>\n",
       "    <tr>\n",
       "      <th>749</th>\n",
       "      <td>0.001470</td>\n",
       "      <td>(whole milk, sausage, yogurt)</td>\n",
       "      <td>3</td>\n",
       "    </tr>\n",
       "  </tbody>\n",
       "</table>\n",
       "</div>"
      ],
      "text/plain": [
       "      support                           itemsets  number_of_items\n",
       "745  0.001136  (whole milk, rolls/buns, sausage)                3\n",
       "746  0.001002     (whole milk, rolls/buns, soda)                3\n",
       "747  0.001337   (whole milk, rolls/buns, yogurt)                3\n",
       "748  0.001069        (whole milk, sausage, soda)                3\n",
       "749  0.001470      (whole milk, sausage, yogurt)                3"
      ]
     },
     "execution_count": 25,
     "metadata": {},
     "output_type": "execute_result"
    }
   ],
   "source": [
    "apriori_matrix.tail()"
   ]
  },
  {
   "cell_type": "code",
   "execution_count": null,
   "id": "b64baad7",
   "metadata": {},
   "outputs": [],
   "source": [
    "# lift"
   ]
  },
  {
   "cell_type": "code",
   "execution_count": 26,
   "id": "a46c73ee",
   "metadata": {},
   "outputs": [],
   "source": [
    "apriori_rule_lift = compute_association_rule(apriori_matrix)"
   ]
  },
  {
   "cell_type": "code",
   "execution_count": 27,
   "id": "ac938a06",
   "metadata": {},
   "outputs": [
    {
     "data": {
      "text/html": [
       "<div>\n",
       "<style scoped>\n",
       "    .dataframe tbody tr th:only-of-type {\n",
       "        vertical-align: middle;\n",
       "    }\n",
       "\n",
       "    .dataframe tbody tr th {\n",
       "        vertical-align: top;\n",
       "    }\n",
       "\n",
       "    .dataframe thead th {\n",
       "        text-align: right;\n",
       "    }\n",
       "</style>\n",
       "<table border=\"1\" class=\"dataframe\">\n",
       "  <thead>\n",
       "    <tr style=\"text-align: right;\">\n",
       "      <th></th>\n",
       "      <th>antecedents</th>\n",
       "      <th>consequents</th>\n",
       "      <th>antecedent support</th>\n",
       "      <th>consequent support</th>\n",
       "      <th>support</th>\n",
       "      <th>confidence</th>\n",
       "      <th>lift</th>\n",
       "      <th>leverage</th>\n",
       "      <th>conviction</th>\n",
       "      <th>zhangs_metric</th>\n",
       "    </tr>\n",
       "  </thead>\n",
       "  <tbody>\n",
       "    <tr>\n",
       "      <th>0</th>\n",
       "      <td>(UHT-milk)</td>\n",
       "      <td>(tropical fruit)</td>\n",
       "      <td>0.021386</td>\n",
       "      <td>0.067767</td>\n",
       "      <td>0.001537</td>\n",
       "      <td>0.071875</td>\n",
       "      <td>1.060617</td>\n",
       "      <td>8.785064e-05</td>\n",
       "      <td>1.004426</td>\n",
       "      <td>0.058402</td>\n",
       "    </tr>\n",
       "    <tr>\n",
       "      <th>1</th>\n",
       "      <td>(tropical fruit)</td>\n",
       "      <td>(UHT-milk)</td>\n",
       "      <td>0.067767</td>\n",
       "      <td>0.021386</td>\n",
       "      <td>0.001537</td>\n",
       "      <td>0.022682</td>\n",
       "      <td>1.060617</td>\n",
       "      <td>8.785064e-05</td>\n",
       "      <td>1.001326</td>\n",
       "      <td>0.061307</td>\n",
       "    </tr>\n",
       "    <tr>\n",
       "      <th>2</th>\n",
       "      <td>(beef)</td>\n",
       "      <td>(brown bread)</td>\n",
       "      <td>0.033950</td>\n",
       "      <td>0.037626</td>\n",
       "      <td>0.001537</td>\n",
       "      <td>0.045276</td>\n",
       "      <td>1.203301</td>\n",
       "      <td>2.597018e-04</td>\n",
       "      <td>1.008012</td>\n",
       "      <td>0.174891</td>\n",
       "    </tr>\n",
       "    <tr>\n",
       "      <th>3</th>\n",
       "      <td>(brown bread)</td>\n",
       "      <td>(beef)</td>\n",
       "      <td>0.037626</td>\n",
       "      <td>0.033950</td>\n",
       "      <td>0.001537</td>\n",
       "      <td>0.040853</td>\n",
       "      <td>1.203301</td>\n",
       "      <td>2.597018e-04</td>\n",
       "      <td>1.007196</td>\n",
       "      <td>0.175559</td>\n",
       "    </tr>\n",
       "    <tr>\n",
       "      <th>4</th>\n",
       "      <td>(beef)</td>\n",
       "      <td>(citrus fruit)</td>\n",
       "      <td>0.033950</td>\n",
       "      <td>0.053131</td>\n",
       "      <td>0.001804</td>\n",
       "      <td>0.053150</td>\n",
       "      <td>1.000349</td>\n",
       "      <td>6.297697e-07</td>\n",
       "      <td>1.000020</td>\n",
       "      <td>0.000361</td>\n",
       "    </tr>\n",
       "  </tbody>\n",
       "</table>\n",
       "</div>"
      ],
      "text/plain": [
       "        antecedents       consequents  antecedent support  consequent support  \\\n",
       "0        (UHT-milk)  (tropical fruit)            0.021386            0.067767   \n",
       "1  (tropical fruit)        (UHT-milk)            0.067767            0.021386   \n",
       "2            (beef)     (brown bread)            0.033950            0.037626   \n",
       "3     (brown bread)            (beef)            0.037626            0.033950   \n",
       "4            (beef)    (citrus fruit)            0.033950            0.053131   \n",
       "\n",
       "    support  confidence      lift      leverage  conviction  zhangs_metric  \n",
       "0  0.001537    0.071875  1.060617  8.785064e-05    1.004426       0.058402  \n",
       "1  0.001537    0.022682  1.060617  8.785064e-05    1.001326       0.061307  \n",
       "2  0.001537    0.045276  1.203301  2.597018e-04    1.008012       0.174891  \n",
       "3  0.001537    0.040853  1.203301  2.597018e-04    1.007196       0.175559  \n",
       "4  0.001804    0.053150  1.000349  6.297697e-07    1.000020       0.000361  "
      ]
     },
     "execution_count": 27,
     "metadata": {},
     "output_type": "execute_result"
    }
   ],
   "source": [
    "apriori_rule_lift.head()"
   ]
  },
  {
   "cell_type": "code",
   "execution_count": 28,
   "id": "d3256362",
   "metadata": {},
   "outputs": [
    {
     "data": {
      "image/png": "[encoded data removed]",
      "text/plain": [
       "<Figure size 640x480 with 1 Axes>"
      ]
     },
     "metadata": {},
     "output_type": "display_data"
    }
   ],
   "source": [
    "plot_metrics_relationship(apriori_rule_lift, col1='lift', col2='confidence')"
   ]
  },
  {
   "cell_type": "code",
   "execution_count": null,
   "id": "b96ab3e2",
   "metadata": {},
   "outputs": [],
   "source": [
    "# confidence"
   ]
  },
  {
   "cell_type": "code",
   "execution_count": 29,
   "id": "8b35234c",
   "metadata": {},
   "outputs": [
    {
     "data": {
      "text/html": [
       "<div>\n",
       "<style scoped>\n",
       "    .dataframe tbody tr th:only-of-type {\n",
       "        vertical-align: middle;\n",
       "    }\n",
       "\n",
       "    .dataframe tbody tr th {\n",
       "        vertical-align: top;\n",
       "    }\n",
       "\n",
       "    .dataframe thead th {\n",
       "        text-align: right;\n",
       "    }\n",
       "</style>\n",
       "<table border=\"1\" class=\"dataframe\">\n",
       "  <thead>\n",
       "    <tr style=\"text-align: right;\">\n",
       "      <th></th>\n",
       "      <th>antecedents</th>\n",
       "      <th>consequents</th>\n",
       "      <th>antecedent support</th>\n",
       "      <th>consequent support</th>\n",
       "      <th>support</th>\n",
       "      <th>confidence</th>\n",
       "      <th>lift</th>\n",
       "      <th>leverage</th>\n",
       "      <th>conviction</th>\n",
       "      <th>zhangs_metric</th>\n",
       "    </tr>\n",
       "  </thead>\n",
       "  <tbody>\n",
       "    <tr>\n",
       "      <th>0</th>\n",
       "      <td>(rolls/buns, sausage)</td>\n",
       "      <td>(whole milk)</td>\n",
       "      <td>0.005347</td>\n",
       "      <td>0.157923</td>\n",
       "      <td>0.001136</td>\n",
       "      <td>0.212500</td>\n",
       "      <td>1.345594</td>\n",
       "      <td>0.000292</td>\n",
       "      <td>1.069304</td>\n",
       "      <td>0.258214</td>\n",
       "    </tr>\n",
       "    <tr>\n",
       "      <th>1</th>\n",
       "      <td>(sausage, yogurt)</td>\n",
       "      <td>(whole milk)</td>\n",
       "      <td>0.005748</td>\n",
       "      <td>0.157923</td>\n",
       "      <td>0.001470</td>\n",
       "      <td>0.255814</td>\n",
       "      <td>1.619866</td>\n",
       "      <td>0.000563</td>\n",
       "      <td>1.131541</td>\n",
       "      <td>0.384877</td>\n",
       "    </tr>\n",
       "  </tbody>\n",
       "</table>\n",
       "</div>"
      ],
      "text/plain": [
       "             antecedents   consequents  antecedent support  \\\n",
       "0  (rolls/buns, sausage)  (whole milk)            0.005347   \n",
       "1      (sausage, yogurt)  (whole milk)            0.005748   \n",
       "\n",
       "   consequent support   support  confidence      lift  leverage  conviction  \\\n",
       "0            0.157923  0.001136    0.212500  1.345594  0.000292    1.069304   \n",
       "1            0.157923  0.001470    0.255814  1.619866  0.000563    1.131541   \n",
       "\n",
       "   zhangs_metric  \n",
       "0       0.258214  \n",
       "1       0.384877  "
      ]
     },
     "execution_count": 29,
     "metadata": {},
     "output_type": "execute_result"
    }
   ],
   "source": [
    "apripri_rule = compute_association_rule(apriori_matrix, metric=\"confidence\", min_thresh=0.2)\n",
    "apripri_rule.head()"
   ]
  },
  {
   "cell_type": "code",
   "execution_count": 30,
   "id": "c88f6e64",
   "metadata": {},
   "outputs": [
    {
     "data": {
      "image/png": "[encoded data removed]",
      "text/plain": [
       "<Figure size 640x480 with 1 Axes>"
      ]
     },
     "metadata": {},
     "output_type": "display_data"
    }
   ],
   "source": [
    "# time execution\n",
    "algo1 = ['Fp Growth', fp_growth_exec_time]\n",
    "algo2 = ['Apriori', apriori_exec_time]\n",
    "\n",
    "compare_time_exec(algo1, algo2)"
   ]
  },
  {
   "cell_type": "code",
   "execution_count": null,
   "id": "5a6e1444",
   "metadata": {},
   "outputs": [],
   "source": []
  }
 ],
 "metadata": {
  "kernelspec": {
   "display_name": "Python 3 (ipykernel)",
   "language": "python",
   "name": "python3"
  },
  "language_info": {
   "codemirror_mode": {
    "name": "ipython",
    "version": 3
   },
   "file_extension": ".py",
   "mimetype": "text/x-python",
   "name": "python",
   "nbconvert_exporter": "python",
   "pygments_lexer": "ipython3",
   "version": "3.11.5"
  }
 },
 "nbformat": 4,
 "nbformat_minor": 5
}
